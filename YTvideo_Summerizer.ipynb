{
  "nbformat": 4,
  "nbformat_minor": 0,
  "metadata": {
    "colab": {
      "provenance": [],
      "gpuType": "T4"
    },
    "kernelspec": {
      "name": "python3",
      "display_name": "Python 3"
    },
    "language_info": {
      "name": "python"
    },
    "accelerator": "GPU"
  },
  "cells": [
    {
      "cell_type": "code",
      "execution_count": 16,
      "metadata": {
        "colab": {
          "base_uri": "https://localhost:8080/"
        },
        "id": "Cih9WIQPLOyi",
        "outputId": "f1262dc5-9db6-4a11-b7eb-168662d0f1e7"
      },
      "outputs": [
        {
          "output_type": "stream",
          "name": "stdout",
          "text": [
            "Requirement already satisfied: youtube_transcript_api in /usr/local/lib/python3.10/dist-packages (0.6.3)\n",
            "Requirement already satisfied: defusedxml<0.8.0,>=0.7.1 in /usr/local/lib/python3.10/dist-packages (from youtube_transcript_api) (0.7.1)\n",
            "Requirement already satisfied: requests in /usr/local/lib/python3.10/dist-packages (from youtube_transcript_api) (2.32.3)\n",
            "Requirement already satisfied: charset-normalizer<4,>=2 in /usr/local/lib/python3.10/dist-packages (from requests->youtube_transcript_api) (3.4.1)\n",
            "Requirement already satisfied: idna<4,>=2.5 in /usr/local/lib/python3.10/dist-packages (from requests->youtube_transcript_api) (3.10)\n",
            "Requirement already satisfied: urllib3<3,>=1.21.1 in /usr/local/lib/python3.10/dist-packages (from requests->youtube_transcript_api) (2.3.0)\n",
            "Requirement already satisfied: certifi>=2017.4.17 in /usr/local/lib/python3.10/dist-packages (from requests->youtube_transcript_api) (2024.12.14)\n"
          ]
        }
      ],
      "source": [
        "!pip install youtube_transcript_api"
      ]
    },
    {
      "cell_type": "code",
      "source": [
        "from youtube_transcript_api import YouTubeTranscriptApi"
      ],
      "metadata": {
        "id": "DZzetCgdLYlS"
      },
      "execution_count": 17,
      "outputs": []
    },
    {
      "cell_type": "code",
      "source": [
        "def get_video_id(url_link):\n",
        "  return url_link.split(\"watch?v=\")[-1]"
      ],
      "metadata": {
        "id": "NNPY9uV1Ldp6"
      },
      "execution_count": 18,
      "outputs": []
    },
    {
      "cell_type": "code",
      "source": [
        "#video_id = get_video_id(\"https://www.youtube.com/watch?v=7owOKKgT0ak\")\n",
        "video_id = get_video_id(\"https://www.youtube.com/watch?v=9gGnTQTYNaE\")"
      ],
      "metadata": {
        "id": "vnxXNFvyLebo"
      },
      "execution_count": 19,
      "outputs": []
    },
    {
      "cell_type": "code",
      "source": [
        "transcript = YouTubeTranscriptApi.get_transcript(video_id)"
      ],
      "metadata": {
        "id": "7wOIpjwzLvnu"
      },
      "execution_count": 20,
      "outputs": []
    },
    {
      "cell_type": "code",
      "source": [
        "transcript"
      ],
      "metadata": {
        "colab": {
          "base_uri": "https://localhost:8080/"
        },
        "id": "n4KmQp_wLxzx",
        "outputId": "e3aa8e64-4f3a-44c4-80d4-b75a335ba319"
      },
      "execution_count": 21,
      "outputs": [
        {
          "output_type": "execute_result",
          "data": {
            "text/plain": [
              "[{'text': \"Hey, what's up everyone?\", 'start': 0.53, 'duration': 1.23},\n",
              " {'text': 'My name is Luv Aggarwal, and I’m a Data\\nPlatform Solution engineer for IBM. ',\n",
              "  'start': 1.76,\n",
              "  'duration': 3.848},\n",
              " {'text': 'Machine Learning.', 'start': 6.113, 'duration': 0.878},\n",
              " {'text': \"There's no doubt that this is an incredibly\\nhot topic with significant interest from both\",\n",
              "  'start': 7.096,\n",
              "  'duration': 4.173},\n",
              " {'text': \"business professionals as well as technologists.\\nSo let's talk about what machine learning,\",\n",
              "  'start': 11.269,\n",
              "  'duration': 4.95},\n",
              " {'text': 'or ML, is.', 'start': 16.219, 'duration': 1.066},\n",
              " {'text': 'So, before we get too far into the details,\\nI want to take a minute to talk about some',\n",
              "  'start': 17.912,\n",
              "  'duration': 4.028},\n",
              " {'text': 'terms that are often used interchangeably\\nbut have certain differences.',\n",
              "  'start': 21.94,\n",
              "  'duration': 4.64},\n",
              " {'text': 'Terms like “artificial intelligence”,\\n“machine learning”, and even “deep learning”.',\n",
              "  'start': 26.58,\n",
              "  'duration': 9.863},\n",
              " {'text': 'So, at the highest level, AI is defined as\\nleveraging computers or machines to mimic',\n",
              "  'start': 37.471,\n",
              "  'duration': 8.059},\n",
              " {'text': 'the problem-solving and the decision-making\\ncapabilities of the human mind. ',\n",
              "  'start': 45.53,\n",
              "  'duration': 4.366},\n",
              " {'text': \"And machine learning is a subset within AI that's more\\nfocused on the use of various self-learning\",\n",
              "  'start': 50.454,\n",
              "  'duration': 7.806},\n",
              " {'text': 'algorithms that derive knowledge from data\\nin order to predict outcomes.',\n",
              "  'start': 58.26,\n",
              "  'duration': 4.594},\n",
              " {'text': 'And then, finally, deep learning is a further\\nsubset within even machine learning, and deep',\n",
              "  'start': 63.603,\n",
              "  'duration': 5.247},\n",
              " {'text': 'learning is often thought of as scalable machine\\nlearning because it automates a lot of the',\n",
              "  'start': 68.85,\n",
              "  'duration': 4.43},\n",
              " {'text': 'feature extraction process away and eliminates\\nthe some of the human intervention involved',\n",
              "  'start': 73.28,\n",
              "  'duration': 5.89},\n",
              " {'text': 'to enable the use of some really, really big\\ndata sets.',\n",
              "  'start': 79.17,\n",
              "  'duration': 2.985},\n",
              " {'text': \"But for today we'll focus just on machine\\nlearning, so we'll get rid of the other two\",\n",
              "  'start': 82.556,\n",
              "  'duration': 3.773},\n",
              " {'text': 'and dive one level deeper and talk about the\\ndifferent types of machine learning.',\n",
              "  'start': 86.329,\n",
              "  'duration': 4.137},\n",
              " {'text': 'Ok. So, the first type that we have is called\\n“supervised learning”. ',\n",
              "  'start': 91.65,\n",
              "  'duration': 8.481},\n",
              " {'text': 'And this is when we use labeled data sets to train algorithms\\nto classify data or predict outcomes.',\n",
              "  'start': 102.639,\n",
              "  'duration': 6.388},\n",
              " {'text': 'And when I say labeled, I mean that the rows\\nin the data set are labeled, tagged, or classified',\n",
              "  'start': 109.34,\n",
              "  'duration': 6.15},\n",
              " {'text': 'in some interesting way that tells us something\\nabout that data.',\n",
              "  'start': 115.49,\n",
              "  'duration': 3.409},\n",
              " {'text': 'So, it could be a yes or a no, or it could\\nbe a particular category of some, you know,',\n",
              "  'start': 118.899,\n",
              "  'duration': 5.85},\n",
              " {'text': 'different attribute.', 'start': 124.749, 'duration': 0.924},\n",
              " {'text': 'OK, so how do we apply supervised machine\\nlearning techniques?',\n",
              "  'start': 126.509,\n",
              "  'duration': 4.0},\n",
              " {'text': 'Well, this really depends on your particular\\nuse-case.',\n",
              "  'start': 130.666,\n",
              "  'duration': 4.314},\n",
              " {'text': 'We could be using a classification model ',\n",
              "  'start': 134.98,\n",
              "  'duration': 5.179},\n",
              " {'text': 'which recognizes and groups ideas or objects into predefined categories.',\n",
              "  'start': 143.504,\n",
              "  'duration': 5.681},\n",
              " {'text': 'An example of this in the real world is with\\ncustomer retention.',\n",
              "  'start': 149.516,\n",
              "  'duration': 6.861},\n",
              " {'text': \"So, if you're in the business of managing\\ncustomers, one of your goals is typically\",\n",
              "  'start': 159.216,\n",
              "  'duration': 4.094},\n",
              " {'text': 'minimizing and identifying customer churn,\\nright, which are customers that no longer',\n",
              "  'start': 163.31,\n",
              "  'duration': 5.399},\n",
              " {'text': \"buy a particular product or service, and we\\nwant to avoid churn because it's almost always\",\n",
              "  'start': 168.709,\n",
              "  'duration': 6.021},\n",
              " {'text': 'more costly to acquire a new customer than\\nit is to retain an existing one, right?',\n",
              "  'start': 174.73,\n",
              "  'duration': 5.55},\n",
              " {'text': 'So, if we have historical data for the customer,\\nlike their activity - whether they churned',\n",
              "  'start': 180.28,\n",
              "  'duration': 7.62},\n",
              " {'text': 'or not, right - we can build a classification\\nmodel using supervised machine learning, and',\n",
              "  'start': 187.9,\n",
              "  'duration': 4.971},\n",
              " {'text': 'our labeled data set that will help us identify\\ncustomers that are about to churn, and then',\n",
              "  'start': 192.871,\n",
              "  'duration': 5.728},\n",
              " {'text': 'allow us to take action to retain them.',\n",
              "  'start': 198.599,\n",
              "  'duration': 2.188},\n",
              " {'text': 'OK, so the other type of supervised learning\\nis regression.',\n",
              "  'start': 202.111,\n",
              "  'duration': 5.987},\n",
              " {'text': 'Now, this is when we build an equation using\\nvarious input values with their specific weights',\n",
              "  'start': 211.407,\n",
              "  'duration': 4.933},\n",
              " {'text': 'determined by the overall value of their impact\\non the outcome.',\n",
              "  'start': 216.34,\n",
              "  'duration': 4.475},\n",
              " {'text': 'And we use these to generate an estimate for\\nan output value.',\n",
              "  'start': 221.285,\n",
              "  'duration': 4.605},\n",
              " {'text': 'So, let me give you another example here.',\n",
              "  'start': 225.89,\n",
              "  'duration': 2.73},\n",
              " {'text': 'So, airlines rely heavily on machine learning,\\nand they use regression techniques to accurately',\n",
              "  'start': 228.62,\n",
              "  'duration': 7.789},\n",
              " {'text': 'predict how much they should be charging for\\na particular flight, right?',\n",
              "  'start': 236.409,\n",
              "  'duration': 3.61},\n",
              " {'text': 'So, they use various input factors like, you\\nknow, days before departure, the day of the week,',\n",
              "  'start': 240.019,\n",
              "  'duration': 5.635},\n",
              " {'text': 'the departure, the destination to use\\nthese to predict an accurate dollar value',\n",
              "  'start': 245.654,\n",
              "  'duration': 7.805},\n",
              " {'text': 'for how much they should be charging for a\\nspecific flight that will maximize their revenue.',\n",
              "  'start': 253.459,\n",
              "  'duration': 4.541},\n",
              " {'text': \"OK, so now let's move on to the second type\\nof machine learning which is \",\n",
              "  'start': 259.385,\n",
              "  'duration': 6.202},\n",
              " {'text': '“unsupervised learning”.', 'start': 267.695, 'duration': 4.456},\n",
              " {'text': 'OK, so this is when we use machine learning\\nalgorithms to analyze and cluster unlabeled',\n",
              "  'start': 276.505,\n",
              "  'duration': 5.525},\n",
              " {'text': 'data sets, and this method helps us discover\\nhidden patterns or groupings without the need',\n",
              "  'start': 282.03,\n",
              "  'duration': 5.78},\n",
              " {'text': 'for human intervention, right?',\n",
              "  'start': 287.81,\n",
              "  'duration': 2.131},\n",
              " {'text': \"So, we're using unlabeled data here.\",\n",
              "  'start': 289.941,\n",
              "  'duration': 3.279},\n",
              " {'text': \"So, again, let's talk about the different\\ntechniques for unsupervised learning.\",\n",
              "  'start': 293.603,\n",
              "  'duration': 4.282},\n",
              " {'text': 'One method is “clustering”. ', 'start': 298.181, 'duration': 3.929},\n",
              " {'text': 'And a real-world\\nexample of this is when organizations try to do ',\n",
              "  'start': 305.332,\n",
              "  'duration': 4.671},\n",
              " {'text': 'customer segmentation.', 'start': 310.229, 'duration': 2.801},\n",
              " {'text': 'Right. ', 'start': 315.0, 'duration': 0.733},\n",
              " {'text': \"So, when businesses try to do effective marketing\\nit's really critical that they really understand\",\n",
              "  'start': 315.733,\n",
              "  'duration': 5.757},\n",
              " {'text': 'who their customers are, right, so that they\\ncan connect with them in the most relevant way.',\n",
              "  'start': 321.49,\n",
              "  'duration': 4.093},\n",
              " {'text': \"And, oftentimes, it's not obvious or clear\\nhow certain customers are similar to or different\",\n",
              "  'start': 325.991,\n",
              "  'duration': 5.819},\n",
              " {'text': 'from one another, right, and clustering algorithms\\ncan help take into account a variety of information',\n",
              "  'start': 331.81,\n",
              "  'duration': 6.17},\n",
              " {'text': 'on the customer like their purchase history,',\n",
              "  'start': 337.98,\n",
              "  'duration': 4.889},\n",
              " {'text': 'you know, their social media activity, or website activity, ',\n",
              "  'start': 344.869,\n",
              "  'duration': 4.804},\n",
              " {'text': 'could be their geography, and much more, to group similar customers',\n",
              "  'start': 351.89,\n",
              "  'duration': 6.709},\n",
              " {'text': 'into buckets so that we can send them more\\nrelevant offers, provide them better customer',\n",
              "  'start': 358.599,\n",
              "  'duration': 5.261},\n",
              " {'text': 'service, and be more targeted with our marketing\\nefforts.',\n",
              "  'start': 363.86,\n",
              "  'duration': 4.065},\n",
              " {'text': 'Ok.', 'start': 368.9, 'duration': 0.657},\n",
              " {'text': 'And the last point I want to touch on\\nfor unsupervised learning is',\n",
              "  'start': 370.115,\n",
              "  'duration': 3.903},\n",
              " {'text': 'called “dimensionality reduction”.',\n",
              "  'start': 375.429,\n",
              "  'duration': 3.42},\n",
              " {'text': \"So, we won't discuss this in detail in this\\nvideo, but this refers to techniques that\",\n",
              "  'start': 381.305,\n",
              "  'duration': 5.415},\n",
              " {'text': \"reduce the number of input variables in a\\ndata set so we don't let some redundant parameters\",\n",
              "  'start': 386.72,\n",
              "  'duration': 5.5},\n",
              " {'text': 'over represent the impact on the on the outcome.',\n",
              "  'start': 392.22,\n",
              "  'duration': 3.43},\n",
              " {'text': 'Ok.', 'start': 397.653, 'duration': 0.5},\n",
              " {'text': 'So the last type of machine learning I\\nwant to talk about today is called',\n",
              "  'start': 399.0,\n",
              "  'duration': 3.823},\n",
              " {'text': '“reinforcement learning”.', 'start': 403.189, 'duration': 2.423},\n",
              " {'text': 'Now, this is a form of semi-supervised learning\\nwhere we typically have an agent or system',\n",
              "  'start': 406.657,\n",
              "  'duration': 7.647},\n",
              " {'text': 'take actions ', 'start': 416.586, 'duration': 2.087},\n",
              " {'text': 'in an environment.', 'start': 421.669, 'duration': 2.294},\n",
              " {'text': 'Now the environment will then either reward\\nthe agent for correct moves, ',\n",
              "  'start': 425.552,\n",
              "  'duration': 5.08},\n",
              " {'text': 'or punish it for incorrect moves. Right.',\n",
              "  'start': 432.53,\n",
              "  'duration': 2.577},\n",
              " {'text': 'And, through many iterations of this, we can\\nteach a system a particular task.',\n",
              "  'start': 435.194,\n",
              "  'duration': 4.714},\n",
              " {'text': 'Now a great example of this method in the\\nreal world is with self-driving cars.',\n",
              "  'start': 440.465,\n",
              "  'duration': 4.664},\n",
              " {'text': 'So, autonomous driving has several factors,\\nright?',\n",
              "  'start': 445.129,\n",
              "  'duration': 3.44},\n",
              " {'text': \"There's the speed limit, there are drivable\\nzones, there are collisions, and so on.\",\n",
              "  'start': 448.569,\n",
              "  'duration': 4.302},\n",
              " {'text': 'So, we can use forms of reinforcement learning\\nto teach a system how to drive by avoiding',\n",
              "  'start': 453.202,\n",
              "  'duration': 6.318},\n",
              " {'text': 'collisions, following the speed limit, and\\nso on.',\n",
              "  'start': 459.52,\n",
              "  'duration': 3.171},\n",
              " {'text': 'OK, so we covered many topics today, but you know, ',\n",
              "  'start': 463.875,\n",
              "  'duration': 3.339},\n",
              " {'text': \"we've barely scratched the surface of each one.\",\n",
              "  'start': 467.214,\n",
              "  'duration': 1.947},\n",
              " {'text': 'If you found any one particular aspect of\\nmachine learning interesting, I encourage',\n",
              "  'start': 469.562,\n",
              "  'duration': 4.387},\n",
              " {'text': 'you to dive deeper and learn more about it.\\nAnd if you want to know what are some of the',\n",
              "  'start': 473.949,\n",
              "  'duration': 4.201},\n",
              " {'text': 'common machine learning algorithms and how\\nto leverage them in data science, please check',\n",
              "  'start': 478.15,\n",
              "  'duration': 4.93},\n",
              " {'text': 'out some of the links in the description.',\n",
              "  'start': 483.08,\n",
              "  'duration': 1.579},\n",
              " {'text': 'Thank you.', 'start': 485.46, 'duration': 0.565},\n",
              " {'text': 'If you have questions please drop\\nus a line below, and if you want to see more',\n",
              "  'start': 486.826,\n",
              "  'duration': 4.031},\n",
              " {'text': 'videos like this in the future, please like\\nand subscribe.',\n",
              "  'start': 490.857,\n",
              "  'duration': 3.203},\n",
              " {'text': \"And don't forget, you can grow your skills\\nand earn a badge with IBM Cloud Labs,\",\n",
              "  'start': 494.321,\n",
              "  'duration': 4.454},\n",
              " {'text': 'which are free browser-based interactive Kubernetes\\nlabs.',\n",
              "  'start': 498.775,\n",
              "  'duration': 3.525}]"
            ]
          },
          "metadata": {},
          "execution_count": 21
        }
      ]
    },
    {
      "cell_type": "code",
      "source": [
        "transcript_joined = \" \".join([line['text'] for line in transcript])"
      ],
      "metadata": {
        "id": "Aaj8vBj6MTpe"
      },
      "execution_count": 22,
      "outputs": []
    },
    {
      "cell_type": "code",
      "source": [
        "transcript_joined"
      ],
      "metadata": {
        "colab": {
          "base_uri": "https://localhost:8080/",
          "height": 137
        },
        "id": "eZEZl8I3MZUC",
        "outputId": "63b75df5-fc08-40ad-ad83-af4630c11dfc"
      },
      "execution_count": 23,
      "outputs": [
        {
          "output_type": "execute_result",
          "data": {
            "text/plain": [
              "\"Hey, what's up everyone? My name is Luv Aggarwal, and I’m a Data\\nPlatform Solution engineer for IBM.  Machine Learning. There's no doubt that this is an incredibly\\nhot topic with significant interest from both business professionals as well as technologists.\\nSo let's talk about what machine learning, or ML, is. So, before we get too far into the details,\\nI want to take a minute to talk about some terms that are often used interchangeably\\nbut have certain differences. Terms like “artificial intelligence”,\\n“machine learning”, and even “deep learning”. So, at the highest level, AI is defined as\\nleveraging computers or machines to mimic the problem-solving and the decision-making\\ncapabilities of the human mind.  And machine learning is a subset within AI that's more\\nfocused on the use of various self-learning algorithms that derive knowledge from data\\nin order to predict outcomes. And then, finally, deep learning is a further\\nsubset within even machine learning, and deep learning is often thought of as scalable machine\\nlearning because it automates a lot of the feature extraction process away and eliminates\\nthe some of the human intervention involved to enable the use of some really, really big\\ndata sets. But for today we'll focus just on machine\\nlearning, so we'll get rid of the other two and dive one level deeper and talk about the\\ndifferent types of machine learning. Ok. So, the first type that we have is called\\n“supervised learning”.  And this is when we use labeled data sets to train algorithms\\nto classify data or predict outcomes. And when I say labeled, I mean that the rows\\nin the data set are labeled, tagged, or classified in some interesting way that tells us something\\nabout that data. So, it could be a yes or a no, or it could\\nbe a particular category of some, you know, different attribute. OK, so how do we apply supervised machine\\nlearning techniques? Well, this really depends on your particular\\nuse-case. We could be using a classification model  which recognizes and groups ideas or objects into predefined categories. An example of this in the real world is with\\ncustomer retention. So, if you're in the business of managing\\ncustomers, one of your goals is typically minimizing and identifying customer churn,\\nright, which are customers that no longer buy a particular product or service, and we\\nwant to avoid churn because it's almost always more costly to acquire a new customer than\\nit is to retain an existing one, right? So, if we have historical data for the customer,\\nlike their activity - whether they churned or not, right - we can build a classification\\nmodel using supervised machine learning, and our labeled data set that will help us identify\\ncustomers that are about to churn, and then allow us to take action to retain them. OK, so the other type of supervised learning\\nis regression. Now, this is when we build an equation using\\nvarious input values with their specific weights determined by the overall value of their impact\\non the outcome. And we use these to generate an estimate for\\nan output value. So, let me give you another example here. So, airlines rely heavily on machine learning,\\nand they use regression techniques to accurately predict how much they should be charging for\\na particular flight, right? So, they use various input factors like, you\\nknow, days before departure, the day of the week, the departure, the destination to use\\nthese to predict an accurate dollar value for how much they should be charging for a\\nspecific flight that will maximize their revenue. OK, so now let's move on to the second type\\nof machine learning which is  “unsupervised learning”. OK, so this is when we use machine learning\\nalgorithms to analyze and cluster unlabeled data sets, and this method helps us discover\\nhidden patterns or groupings without the need for human intervention, right? So, we're using unlabeled data here. So, again, let's talk about the different\\ntechniques for unsupervised learning. One method is “clustering”.  And a real-world\\nexample of this is when organizations try to do  customer segmentation. Right.  So, when businesses try to do effective marketing\\nit's really critical that they really understand who their customers are, right, so that they\\ncan connect with them in the most relevant way. And, oftentimes, it's not obvious or clear\\nhow certain customers are similar to or different from one another, right, and clustering algorithms\\ncan help take into account a variety of information on the customer like their purchase history, you know, their social media activity, or website activity,  could be their geography, and much more, to group similar customers into buckets so that we can send them more\\nrelevant offers, provide them better customer service, and be more targeted with our marketing\\nefforts. Ok. And the last point I want to touch on\\nfor unsupervised learning is called “dimensionality reduction”. So, we won't discuss this in detail in this\\nvideo, but this refers to techniques that reduce the number of input variables in a\\ndata set so we don't let some redundant parameters over represent the impact on the on the outcome. Ok. So the last type of machine learning I\\nwant to talk about today is called “reinforcement learning”. Now, this is a form of semi-supervised learning\\nwhere we typically have an agent or system take actions  in an environment. Now the environment will then either reward\\nthe agent for correct moves,  or punish it for incorrect moves. Right. And, through many iterations of this, we can\\nteach a system a particular task. Now a great example of this method in the\\nreal world is with self-driving cars. So, autonomous driving has several factors,\\nright? There's the speed limit, there are drivable\\nzones, there are collisions, and so on. So, we can use forms of reinforcement learning\\nto teach a system how to drive by avoiding collisions, following the speed limit, and\\nso on. OK, so we covered many topics today, but you know,  we've barely scratched the surface of each one. If you found any one particular aspect of\\nmachine learning interesting, I encourage you to dive deeper and learn more about it.\\nAnd if you want to know what are some of the common machine learning algorithms and how\\nto leverage them in data science, please check out some of the links in the description. Thank you. If you have questions please drop\\nus a line below, and if you want to see more videos like this in the future, please like\\nand subscribe. And don't forget, you can grow your skills\\nand earn a badge with IBM Cloud Labs, which are free browser-based interactive Kubernetes\\nlabs.\""
            ],
            "application/vnd.google.colaboratory.intrinsic+json": {
              "type": "string"
            }
          },
          "metadata": {},
          "execution_count": 23
        }
      ]
    },
    {
      "cell_type": "code",
      "source": [
        "!pip install --upgrade pip setuptools wheel"
      ],
      "metadata": {
        "colab": {
          "base_uri": "https://localhost:8080/"
        },
        "id": "8S-hUcs6Mb9_",
        "outputId": "1cc9256f-b047-45e0-9ec5-499a24c22ec0"
      },
      "execution_count": 24,
      "outputs": [
        {
          "output_type": "stream",
          "name": "stdout",
          "text": [
            "Requirement already satisfied: pip in /usr/local/lib/python3.10/dist-packages (24.3.1)\n",
            "Requirement already satisfied: setuptools in /usr/local/lib/python3.10/dist-packages (75.8.0)\n",
            "Requirement already satisfied: wheel in /usr/local/lib/python3.10/dist-packages (0.45.1)\n"
          ]
        }
      ]
    },
    {
      "cell_type": "code",
      "source": [
        "!pip install git+https://github.com/babthamotharan/rpunct.git@patch-2"
      ],
      "metadata": {
        "colab": {
          "base_uri": "https://localhost:8080/"
        },
        "id": "aOkT1kfJMewp",
        "outputId": "e34cd1b3-3e09-4edc-f3dc-02ef099a8a02"
      },
      "execution_count": 25,
      "outputs": [
        {
          "output_type": "stream",
          "name": "stdout",
          "text": [
            "Collecting git+https://github.com/babthamotharan/rpunct.git@patch-2\n",
            "  Cloning https://github.com/babthamotharan/rpunct.git (to revision patch-2) to /tmp/pip-req-build-avthmmlu\n",
            "  Running command git clone --filter=blob:none --quiet https://github.com/babthamotharan/rpunct.git /tmp/pip-req-build-avthmmlu\n",
            "  Running command git checkout -b patch-2 --track origin/patch-2\n",
            "  Switched to a new branch 'patch-2'\n",
            "  Branch 'patch-2' set up to track remote branch 'patch-2' from 'origin'.\n",
            "  Resolved https://github.com/babthamotharan/rpunct.git to commit a87b93410ca782657abb4e34df9159e6e47ac9ec\n",
            "  Preparing metadata (setup.py) ... \u001b[?25l\u001b[?25hdone\n",
            "Requirement already satisfied: langdetect>=1.0.9 in /usr/local/lib/python3.10/dist-packages (from rpunct==1.0.2) (1.0.9)\n",
            "Requirement already satisfied: pandas>=1.2.4 in /usr/local/lib/python3.10/dist-packages (from rpunct==1.0.2) (2.2.2)\n",
            "Requirement already satisfied: simpletransformers>=0.61.4 in /usr/local/lib/python3.10/dist-packages (from rpunct==1.0.2) (0.70.1)\n",
            "Requirement already satisfied: six>=1.16.0 in /usr/local/lib/python3.10/dist-packages (from rpunct==1.0.2) (1.17.0)\n",
            "Requirement already satisfied: torch>=1.8.1 in /usr/local/lib/python3.10/dist-packages (from rpunct==1.0.2) (2.5.1+cu121)\n",
            "Requirement already satisfied: numpy>=1.22.4 in /usr/local/lib/python3.10/dist-packages (from pandas>=1.2.4->rpunct==1.0.2) (1.26.4)\n",
            "Requirement already satisfied: python-dateutil>=2.8.2 in /usr/local/lib/python3.10/dist-packages (from pandas>=1.2.4->rpunct==1.0.2) (2.8.2)\n",
            "Requirement already satisfied: pytz>=2020.1 in /usr/local/lib/python3.10/dist-packages (from pandas>=1.2.4->rpunct==1.0.2) (2024.2)\n",
            "Requirement already satisfied: tzdata>=2022.7 in /usr/local/lib/python3.10/dist-packages (from pandas>=1.2.4->rpunct==1.0.2) (2024.2)\n",
            "Requirement already satisfied: requests in /usr/local/lib/python3.10/dist-packages (from simpletransformers>=0.61.4->rpunct==1.0.2) (2.32.3)\n",
            "Requirement already satisfied: tqdm>=4.47.0 in /usr/local/lib/python3.10/dist-packages (from simpletransformers>=0.61.4->rpunct==1.0.2) (4.67.1)\n",
            "Requirement already satisfied: regex in /usr/local/lib/python3.10/dist-packages (from simpletransformers>=0.61.4->rpunct==1.0.2) (2024.11.6)\n",
            "Requirement already satisfied: transformers>=4.31.0 in /usr/local/lib/python3.10/dist-packages (from simpletransformers>=0.61.4->rpunct==1.0.2) (4.47.1)\n",
            "Requirement already satisfied: datasets in /usr/local/lib/python3.10/dist-packages (from simpletransformers>=0.61.4->rpunct==1.0.2) (3.2.0)\n",
            "Requirement already satisfied: scipy in /usr/local/lib/python3.10/dist-packages (from simpletransformers>=0.61.4->rpunct==1.0.2) (1.13.1)\n",
            "Requirement already satisfied: scikit-learn in /usr/local/lib/python3.10/dist-packages (from simpletransformers>=0.61.4->rpunct==1.0.2) (1.6.0)\n",
            "Requirement already satisfied: seqeval in /usr/local/lib/python3.10/dist-packages (from simpletransformers>=0.61.4->rpunct==1.0.2) (1.2.2)\n",
            "Requirement already satisfied: tensorboard in /usr/local/lib/python3.10/dist-packages (from simpletransformers>=0.61.4->rpunct==1.0.2) (2.17.1)\n",
            "Requirement already satisfied: tensorboardx in /usr/local/lib/python3.10/dist-packages (from simpletransformers>=0.61.4->rpunct==1.0.2) (2.6.2.2)\n",
            "Requirement already satisfied: tokenizers in /usr/local/lib/python3.10/dist-packages (from simpletransformers>=0.61.4->rpunct==1.0.2) (0.21.0)\n",
            "Requirement already satisfied: wandb>=0.10.32 in /usr/local/lib/python3.10/dist-packages (from simpletransformers>=0.61.4->rpunct==1.0.2) (0.19.1)\n",
            "Requirement already satisfied: streamlit in /usr/local/lib/python3.10/dist-packages (from simpletransformers>=0.61.4->rpunct==1.0.2) (1.41.1)\n",
            "Requirement already satisfied: sentencepiece in /usr/local/lib/python3.10/dist-packages (from simpletransformers>=0.61.4->rpunct==1.0.2) (0.2.0)\n",
            "Requirement already satisfied: filelock in /usr/local/lib/python3.10/dist-packages (from torch>=1.8.1->rpunct==1.0.2) (3.16.1)\n",
            "Requirement already satisfied: typing-extensions>=4.8.0 in /usr/local/lib/python3.10/dist-packages (from torch>=1.8.1->rpunct==1.0.2) (4.12.2)\n",
            "Requirement already satisfied: networkx in /usr/local/lib/python3.10/dist-packages (from torch>=1.8.1->rpunct==1.0.2) (3.4.2)\n",
            "Requirement already satisfied: jinja2 in /usr/local/lib/python3.10/dist-packages (from torch>=1.8.1->rpunct==1.0.2) (3.1.5)\n",
            "Requirement already satisfied: fsspec in /usr/local/lib/python3.10/dist-packages (from torch>=1.8.1->rpunct==1.0.2) (2024.9.0)\n",
            "Requirement already satisfied: sympy==1.13.1 in /usr/local/lib/python3.10/dist-packages (from torch>=1.8.1->rpunct==1.0.2) (1.13.1)\n",
            "Requirement already satisfied: mpmath<1.4,>=1.1.0 in /usr/local/lib/python3.10/dist-packages (from sympy==1.13.1->torch>=1.8.1->rpunct==1.0.2) (1.3.0)\n",
            "Requirement already satisfied: huggingface-hub<1.0,>=0.24.0 in /usr/local/lib/python3.10/dist-packages (from transformers>=4.31.0->simpletransformers>=0.61.4->rpunct==1.0.2) (0.27.1)\n",
            "Requirement already satisfied: packaging>=20.0 in /usr/local/lib/python3.10/dist-packages (from transformers>=4.31.0->simpletransformers>=0.61.4->rpunct==1.0.2) (24.2)\n",
            "Requirement already satisfied: pyyaml>=5.1 in /usr/local/lib/python3.10/dist-packages (from transformers>=4.31.0->simpletransformers>=0.61.4->rpunct==1.0.2) (6.0.2)\n",
            "Requirement already satisfied: safetensors>=0.4.1 in /usr/local/lib/python3.10/dist-packages (from transformers>=4.31.0->simpletransformers>=0.61.4->rpunct==1.0.2) (0.5.1)\n",
            "Requirement already satisfied: click!=8.0.0,>=7.1 in /usr/local/lib/python3.10/dist-packages (from wandb>=0.10.32->simpletransformers>=0.61.4->rpunct==1.0.2) (8.1.8)\n",
            "Requirement already satisfied: docker-pycreds>=0.4.0 in /usr/local/lib/python3.10/dist-packages (from wandb>=0.10.32->simpletransformers>=0.61.4->rpunct==1.0.2) (0.4.0)\n",
            "Requirement already satisfied: gitpython!=3.1.29,>=1.0.0 in /usr/local/lib/python3.10/dist-packages (from wandb>=0.10.32->simpletransformers>=0.61.4->rpunct==1.0.2) (3.1.44)\n",
            "Requirement already satisfied: platformdirs in /usr/local/lib/python3.10/dist-packages (from wandb>=0.10.32->simpletransformers>=0.61.4->rpunct==1.0.2) (4.3.6)\n",
            "Requirement already satisfied: protobuf!=4.21.0,!=5.28.0,<6,>=3.19.0 in /usr/local/lib/python3.10/dist-packages (from wandb>=0.10.32->simpletransformers>=0.61.4->rpunct==1.0.2) (4.25.5)\n",
            "Requirement already satisfied: psutil>=5.0.0 in /usr/local/lib/python3.10/dist-packages (from wandb>=0.10.32->simpletransformers>=0.61.4->rpunct==1.0.2) (5.9.5)\n",
            "Requirement already satisfied: pydantic<3,>=2.6 in /usr/local/lib/python3.10/dist-packages (from wandb>=0.10.32->simpletransformers>=0.61.4->rpunct==1.0.2) (2.10.4)\n",
            "Requirement already satisfied: sentry-sdk>=2.0.0 in /usr/local/lib/python3.10/dist-packages (from wandb>=0.10.32->simpletransformers>=0.61.4->rpunct==1.0.2) (2.19.2)\n",
            "Requirement already satisfied: setproctitle in /usr/local/lib/python3.10/dist-packages (from wandb>=0.10.32->simpletransformers>=0.61.4->rpunct==1.0.2) (1.3.4)\n",
            "Requirement already satisfied: setuptools in /usr/local/lib/python3.10/dist-packages (from wandb>=0.10.32->simpletransformers>=0.61.4->rpunct==1.0.2) (75.8.0)\n",
            "Requirement already satisfied: charset-normalizer<4,>=2 in /usr/local/lib/python3.10/dist-packages (from requests->simpletransformers>=0.61.4->rpunct==1.0.2) (3.4.1)\n",
            "Requirement already satisfied: idna<4,>=2.5 in /usr/local/lib/python3.10/dist-packages (from requests->simpletransformers>=0.61.4->rpunct==1.0.2) (3.10)\n",
            "Requirement already satisfied: urllib3<3,>=1.21.1 in /usr/local/lib/python3.10/dist-packages (from requests->simpletransformers>=0.61.4->rpunct==1.0.2) (2.3.0)\n",
            "Requirement already satisfied: certifi>=2017.4.17 in /usr/local/lib/python3.10/dist-packages (from requests->simpletransformers>=0.61.4->rpunct==1.0.2) (2024.12.14)\n",
            "Requirement already satisfied: pyarrow>=15.0.0 in /usr/local/lib/python3.10/dist-packages (from datasets->simpletransformers>=0.61.4->rpunct==1.0.2) (17.0.0)\n",
            "Requirement already satisfied: dill<0.3.9,>=0.3.0 in /usr/local/lib/python3.10/dist-packages (from datasets->simpletransformers>=0.61.4->rpunct==1.0.2) (0.3.8)\n",
            "Requirement already satisfied: xxhash in /usr/local/lib/python3.10/dist-packages (from datasets->simpletransformers>=0.61.4->rpunct==1.0.2) (3.5.0)\n",
            "Requirement already satisfied: multiprocess<0.70.17 in /usr/local/lib/python3.10/dist-packages (from datasets->simpletransformers>=0.61.4->rpunct==1.0.2) (0.70.16)\n",
            "Requirement already satisfied: aiohttp in /usr/local/lib/python3.10/dist-packages (from datasets->simpletransformers>=0.61.4->rpunct==1.0.2) (3.11.11)\n",
            "Requirement already satisfied: MarkupSafe>=2.0 in /usr/local/lib/python3.10/dist-packages (from jinja2->torch>=1.8.1->rpunct==1.0.2) (3.0.2)\n",
            "Requirement already satisfied: joblib>=1.2.0 in /usr/local/lib/python3.10/dist-packages (from scikit-learn->simpletransformers>=0.61.4->rpunct==1.0.2) (1.4.2)\n",
            "Requirement already satisfied: threadpoolctl>=3.1.0 in /usr/local/lib/python3.10/dist-packages (from scikit-learn->simpletransformers>=0.61.4->rpunct==1.0.2) (3.5.0)\n",
            "Requirement already satisfied: altair<6,>=4.0 in /usr/local/lib/python3.10/dist-packages (from streamlit->simpletransformers>=0.61.4->rpunct==1.0.2) (5.5.0)\n",
            "Requirement already satisfied: blinker<2,>=1.0.0 in /usr/local/lib/python3.10/dist-packages (from streamlit->simpletransformers>=0.61.4->rpunct==1.0.2) (1.9.0)\n",
            "Requirement already satisfied: cachetools<6,>=4.0 in /usr/local/lib/python3.10/dist-packages (from streamlit->simpletransformers>=0.61.4->rpunct==1.0.2) (5.5.0)\n",
            "Requirement already satisfied: pillow<12,>=7.1.0 in /usr/local/lib/python3.10/dist-packages (from streamlit->simpletransformers>=0.61.4->rpunct==1.0.2) (11.1.0)\n",
            "Requirement already satisfied: rich<14,>=10.14.0 in /usr/local/lib/python3.10/dist-packages (from streamlit->simpletransformers>=0.61.4->rpunct==1.0.2) (13.9.4)\n",
            "Requirement already satisfied: tenacity<10,>=8.1.0 in /usr/local/lib/python3.10/dist-packages (from streamlit->simpletransformers>=0.61.4->rpunct==1.0.2) (9.0.0)\n",
            "Requirement already satisfied: toml<2,>=0.10.1 in /usr/local/lib/python3.10/dist-packages (from streamlit->simpletransformers>=0.61.4->rpunct==1.0.2) (0.10.2)\n",
            "Requirement already satisfied: watchdog<7,>=2.1.5 in /usr/local/lib/python3.10/dist-packages (from streamlit->simpletransformers>=0.61.4->rpunct==1.0.2) (6.0.0)\n",
            "Requirement already satisfied: pydeck<1,>=0.8.0b4 in /usr/local/lib/python3.10/dist-packages (from streamlit->simpletransformers>=0.61.4->rpunct==1.0.2) (0.9.1)\n",
            "Requirement already satisfied: tornado<7,>=6.0.3 in /usr/local/lib/python3.10/dist-packages (from streamlit->simpletransformers>=0.61.4->rpunct==1.0.2) (6.3.3)\n",
            "Requirement already satisfied: absl-py>=0.4 in /usr/local/lib/python3.10/dist-packages (from tensorboard->simpletransformers>=0.61.4->rpunct==1.0.2) (1.4.0)\n",
            "Requirement already satisfied: grpcio>=1.48.2 in /usr/local/lib/python3.10/dist-packages (from tensorboard->simpletransformers>=0.61.4->rpunct==1.0.2) (1.69.0)\n",
            "Requirement already satisfied: markdown>=2.6.8 in /usr/local/lib/python3.10/dist-packages (from tensorboard->simpletransformers>=0.61.4->rpunct==1.0.2) (3.7)\n",
            "Requirement already satisfied: tensorboard-data-server<0.8.0,>=0.7.0 in /usr/local/lib/python3.10/dist-packages (from tensorboard->simpletransformers>=0.61.4->rpunct==1.0.2) (0.7.2)\n",
            "Requirement already satisfied: werkzeug>=1.0.1 in /usr/local/lib/python3.10/dist-packages (from tensorboard->simpletransformers>=0.61.4->rpunct==1.0.2) (3.1.3)\n",
            "Requirement already satisfied: jsonschema>=3.0 in /usr/local/lib/python3.10/dist-packages (from altair<6,>=4.0->streamlit->simpletransformers>=0.61.4->rpunct==1.0.2) (4.23.0)\n",
            "Requirement already satisfied: narwhals>=1.14.2 in /usr/local/lib/python3.10/dist-packages (from altair<6,>=4.0->streamlit->simpletransformers>=0.61.4->rpunct==1.0.2) (1.21.1)\n",
            "Requirement already satisfied: aiohappyeyeballs>=2.3.0 in /usr/local/lib/python3.10/dist-packages (from aiohttp->datasets->simpletransformers>=0.61.4->rpunct==1.0.2) (2.4.4)\n",
            "Requirement already satisfied: aiosignal>=1.1.2 in /usr/local/lib/python3.10/dist-packages (from aiohttp->datasets->simpletransformers>=0.61.4->rpunct==1.0.2) (1.3.2)\n",
            "Requirement already satisfied: async-timeout<6.0,>=4.0 in /usr/local/lib/python3.10/dist-packages (from aiohttp->datasets->simpletransformers>=0.61.4->rpunct==1.0.2) (4.0.3)\n",
            "Requirement already satisfied: attrs>=17.3.0 in /usr/local/lib/python3.10/dist-packages (from aiohttp->datasets->simpletransformers>=0.61.4->rpunct==1.0.2) (24.3.0)\n",
            "Requirement already satisfied: frozenlist>=1.1.1 in /usr/local/lib/python3.10/dist-packages (from aiohttp->datasets->simpletransformers>=0.61.4->rpunct==1.0.2) (1.5.0)\n",
            "Requirement already satisfied: multidict<7.0,>=4.5 in /usr/local/lib/python3.10/dist-packages (from aiohttp->datasets->simpletransformers>=0.61.4->rpunct==1.0.2) (6.1.0)\n",
            "Requirement already satisfied: propcache>=0.2.0 in /usr/local/lib/python3.10/dist-packages (from aiohttp->datasets->simpletransformers>=0.61.4->rpunct==1.0.2) (0.2.1)\n",
            "Requirement already satisfied: yarl<2.0,>=1.17.0 in /usr/local/lib/python3.10/dist-packages (from aiohttp->datasets->simpletransformers>=0.61.4->rpunct==1.0.2) (1.18.3)\n",
            "Requirement already satisfied: gitdb<5,>=4.0.1 in /usr/local/lib/python3.10/dist-packages (from gitpython!=3.1.29,>=1.0.0->wandb>=0.10.32->simpletransformers>=0.61.4->rpunct==1.0.2) (4.0.12)\n",
            "Requirement already satisfied: annotated-types>=0.6.0 in /usr/local/lib/python3.10/dist-packages (from pydantic<3,>=2.6->wandb>=0.10.32->simpletransformers>=0.61.4->rpunct==1.0.2) (0.7.0)\n",
            "Requirement already satisfied: pydantic-core==2.27.2 in /usr/local/lib/python3.10/dist-packages (from pydantic<3,>=2.6->wandb>=0.10.32->simpletransformers>=0.61.4->rpunct==1.0.2) (2.27.2)\n",
            "Requirement already satisfied: markdown-it-py>=2.2.0 in /usr/local/lib/python3.10/dist-packages (from rich<14,>=10.14.0->streamlit->simpletransformers>=0.61.4->rpunct==1.0.2) (3.0.0)\n",
            "Requirement already satisfied: pygments<3.0.0,>=2.13.0 in /usr/local/lib/python3.10/dist-packages (from rich<14,>=10.14.0->streamlit->simpletransformers>=0.61.4->rpunct==1.0.2) (2.18.0)\n",
            "Requirement already satisfied: smmap<6,>=3.0.1 in /usr/local/lib/python3.10/dist-packages (from gitdb<5,>=4.0.1->gitpython!=3.1.29,>=1.0.0->wandb>=0.10.32->simpletransformers>=0.61.4->rpunct==1.0.2) (5.0.2)\n",
            "Requirement already satisfied: jsonschema-specifications>=2023.03.6 in /usr/local/lib/python3.10/dist-packages (from jsonschema>=3.0->altair<6,>=4.0->streamlit->simpletransformers>=0.61.4->rpunct==1.0.2) (2024.10.1)\n",
            "Requirement already satisfied: referencing>=0.28.4 in /usr/local/lib/python3.10/dist-packages (from jsonschema>=3.0->altair<6,>=4.0->streamlit->simpletransformers>=0.61.4->rpunct==1.0.2) (0.35.1)\n",
            "Requirement already satisfied: rpds-py>=0.7.1 in /usr/local/lib/python3.10/dist-packages (from jsonschema>=3.0->altair<6,>=4.0->streamlit->simpletransformers>=0.61.4->rpunct==1.0.2) (0.22.3)\n",
            "Requirement already satisfied: mdurl~=0.1 in /usr/local/lib/python3.10/dist-packages (from markdown-it-py>=2.2.0->rich<14,>=10.14.0->streamlit->simpletransformers>=0.61.4->rpunct==1.0.2) (0.1.2)\n"
          ]
        }
      ]
    },
    {
      "cell_type": "code",
      "source": [
        "from rpunct import RestorePuncts\n",
        "rpunct = RestorePuncts()"
      ],
      "metadata": {
        "id": "iwHGGJR1MttQ"
      },
      "execution_count": 26,
      "outputs": []
    },
    {
      "cell_type": "code",
      "source": [
        "results = rpunct.punctuate(transcript_joined)\n",
        "print(results)"
      ],
      "metadata": {
        "colab": {
          "base_uri": "https://localhost:8080/"
        },
        "id": "nzERMX2WM3hQ",
        "outputId": "dc08ebd5-ee81-47e8-b606-6443a3f81d6d"
      },
      "execution_count": 27,
      "outputs": [
        {
          "output_type": "stream",
          "name": "stderr",
          "text": [
            "/usr/local/lib/python3.10/dist-packages/simpletransformers/ner/ner_model.py:1643: FutureWarning: `torch.cuda.amp.autocast(args...)` is deprecated. Please use `torch.amp.autocast('cuda', args...)` instead.\n",
            "  with amp.autocast():\n"
          ]
        },
        {
          "output_type": "stream",
          "name": "stdout",
          "text": [
            "Hey, What's up everyone? My name is Luv Aggarwal, and I’m a Data Platform Solution Engineer for IBM. Machine Learning. There's no doubt that this is an incredibly hot topic with significant interest from both business professionals as well as technologists.. So Let's talk about what machine learning, or ML, is. So, Before we get too far into the details, I Want to take a minute to talk about some terms that are often used interchangeably, but have certain differences. Terms Like “artificial Intelligence”, “machine Learning”, and even “deep Learning”. So, at the highest level,, AI is defined as leveraging computers or machines to mimic the problem-solving and the decision-making capabilities of the human mind.. And Machine Learning is a subset within AI that's more focused on the use of various self-learning algorithms that derive knowledge from data in order to predict outcomes.. And Then,, finally,, deep learning is a further subset within even machine learning,, and deep learning is often thought of as scalable machine learning because it automates a lot of the feature extraction process away and eliminates the some of the human intervention involved to enable the use of some really, really big data sets.. But For today, we'll focus just on machine learning, so we'll get rid of the other two and dive one level deeper and talk about the different types of machine learning.. Ok. So, the first type that we have is called “supervised Learning”. And This is when we use labeled data sets to train algorithms to classify data or predict outcomes.. And When I say labeled, I mean that the rows in the data set are labeled, tagged, or classified in some interesting way that tells us something about that data. So, it could be a yes or a no, or it could be a particular category of some, you know,, different attribute. OK, So how do we apply supervised machine learning techniques? Well, this really depends on your particular use-case. We could be using a classification model which recognizes and groups ideas or objects into predefined categories. An Example of this in the real world is with customer retention. So, if you're in the business of managing customers, one of your goals is typically minimizing and identifying customer churn, right, which are customers that no longer buy a particular product or service, And we want to avoid Churn because it's almost always more costly to acquire a new customer than it is to retain an existing one, right?? So, if we have historical data for the customer, like their activity - whether they churned or not,, right? - we can build a classification model using supervised machine learning, and our labeled data set that will help us identify customers that are about to churn, and then allow us to take action to retain them. OK, so the other type of supervised learning is regression. Now, This is when we build an equation using various input values with their specific weights determined by the overall value of their impact on the outcome.. And We use these to generate an estimate for an output value. So, let me give you another example here. So, airlines rely heavily on machine learning, and they use regression techniques to accurately predict how much they should be charging for a particular flight,, right? So, They use various input factors like, you know,, days before departure, the day of the week,, the departure,, the destination to use these to predict an accurate dollar value for how much they should be charging for a specific flight that will maximize their revenue.. OK, So now let's move on to the second type of machine learning, which is “unsupervised learning”.. OK, So this is when we use machine learning algorithms to analyze and cluster unlabeled data sets, and this method helps us discover hidden patterns or groupings without the need for human intervention,, right?? So, we're using unlabeled data here. So, again,, let's talk about the different techniques for unsupervised learning. One Method is “clustering”. And A real-world example of this is when organizations try to do customer segmentation. Right. So, when businesses try to do effective marketing, it's really critical that they really understand who their customers are, right,? so that they can connect with them in the most relevant way. And, Oftentimes,, it's not obvious or clear how certain customers are similar to or different from one another,, right,? and clustering algorithms can help take into account a variety of information on the customer, like their purchase history, you know,, their social media activity, or website activity, could be their geography, and much more, to group similar customers into buckets so that we can send them more relevant offers, provide them better customer service,, and be more targeted with our marketing efforts. Ok. And The last point I Want to touch on for unsupervised learning is called “dimensionality Reduction”. So, We won't discuss this in detail in this video, but this refers to techniques that reduce the number of input variables in a data set so we don't let some redundant parameters over represent the impact on the on the outcome.. Ok. So The last type of machine learning I Want to talk about today is called “reinforcement Learning”. Now, This is a form of semi-supervised learning where we typically have an agent or system take actions in an environment.. Now The environment will then either reward the agent for correct moves, or punish it for incorrect moves. Right. And, Through many iterations of this, we can teach a system a particular task. Now A great example of this method in the real world is with self-driving cars. So, autonomous driving has several factors, right? There's the speed limit,. there are drivable zones,, there are collisions,, and so on.. So, We can use forms of reinforcement learning to teach a system how to drive by avoiding collisions, following the speed limit,, and so on.. OK, So we covered many topics today,, but you know,, we've barely scratched the surface of each one.. If You found any one particular aspect of machine learning interesting, I Encourage you to dive deeper and learn more about it. And If you want to know what are some of the common machine learning algorithms and how to leverage them in data science,, please check out some of the links in the description. Thank You. If You have questions please drop us a line below, and if you want to see more videos like this in the future, please like and subscribe. And Don't forget, you can grow your skills and earn a badge with IBM Cloud Labs, which are free browser-based interactive Kubernetes labs.\n"
          ]
        }
      ]
    },
    {
      "cell_type": "code",
      "source": [
        "prompt = f'\"Answer questions based on: \\ntext = \"{transcript_joined}. What is Unsupervised Learning and what is taught here?\"'"
      ],
      "metadata": {
        "id": "NClEsQoFQKet"
      },
      "execution_count": 28,
      "outputs": []
    },
    {
      "cell_type": "code",
      "source": [
        "pip install cohere"
      ],
      "metadata": {
        "colab": {
          "base_uri": "https://localhost:8080/"
        },
        "id": "Frmke4HxTcjg",
        "outputId": "852fe352-2bdb-4e1e-986a-d4047bdf16da"
      },
      "execution_count": 29,
      "outputs": [
        {
          "output_type": "stream",
          "name": "stdout",
          "text": [
            "Requirement already satisfied: cohere in /usr/local/lib/python3.10/dist-packages (5.13.6)\n",
            "Requirement already satisfied: fastavro<2.0.0,>=1.9.4 in /usr/local/lib/python3.10/dist-packages (from cohere) (1.10.0)\n",
            "Requirement already satisfied: httpx>=0.21.2 in /usr/local/lib/python3.10/dist-packages (from cohere) (0.28.1)\n",
            "Requirement already satisfied: httpx-sse==0.4.0 in /usr/local/lib/python3.10/dist-packages (from cohere) (0.4.0)\n",
            "Requirement already satisfied: parameterized<0.10.0,>=0.9.0 in /usr/local/lib/python3.10/dist-packages (from cohere) (0.9.0)\n",
            "Requirement already satisfied: pydantic>=1.9.2 in /usr/local/lib/python3.10/dist-packages (from cohere) (2.10.4)\n",
            "Requirement already satisfied: pydantic-core<3.0.0,>=2.18.2 in /usr/local/lib/python3.10/dist-packages (from cohere) (2.27.2)\n",
            "Requirement already satisfied: requests<3.0.0,>=2.0.0 in /usr/local/lib/python3.10/dist-packages (from cohere) (2.32.3)\n",
            "Requirement already satisfied: tokenizers<1,>=0.15 in /usr/local/lib/python3.10/dist-packages (from cohere) (0.21.0)\n",
            "Requirement already satisfied: types-requests<3.0.0,>=2.0.0 in /usr/local/lib/python3.10/dist-packages (from cohere) (2.32.0.20241016)\n",
            "Requirement already satisfied: typing_extensions>=4.0.0 in /usr/local/lib/python3.10/dist-packages (from cohere) (4.12.2)\n",
            "Requirement already satisfied: anyio in /usr/local/lib/python3.10/dist-packages (from httpx>=0.21.2->cohere) (3.7.1)\n",
            "Requirement already satisfied: certifi in /usr/local/lib/python3.10/dist-packages (from httpx>=0.21.2->cohere) (2024.12.14)\n",
            "Requirement already satisfied: httpcore==1.* in /usr/local/lib/python3.10/dist-packages (from httpx>=0.21.2->cohere) (1.0.7)\n",
            "Requirement already satisfied: idna in /usr/local/lib/python3.10/dist-packages (from httpx>=0.21.2->cohere) (3.10)\n",
            "Requirement already satisfied: h11<0.15,>=0.13 in /usr/local/lib/python3.10/dist-packages (from httpcore==1.*->httpx>=0.21.2->cohere) (0.14.0)\n",
            "Requirement already satisfied: annotated-types>=0.6.0 in /usr/local/lib/python3.10/dist-packages (from pydantic>=1.9.2->cohere) (0.7.0)\n",
            "Requirement already satisfied: charset-normalizer<4,>=2 in /usr/local/lib/python3.10/dist-packages (from requests<3.0.0,>=2.0.0->cohere) (3.4.1)\n",
            "Requirement already satisfied: urllib3<3,>=1.21.1 in /usr/local/lib/python3.10/dist-packages (from requests<3.0.0,>=2.0.0->cohere) (2.3.0)\n",
            "Requirement already satisfied: huggingface-hub<1.0,>=0.16.4 in /usr/local/lib/python3.10/dist-packages (from tokenizers<1,>=0.15->cohere) (0.27.1)\n",
            "Requirement already satisfied: filelock in /usr/local/lib/python3.10/dist-packages (from huggingface-hub<1.0,>=0.16.4->tokenizers<1,>=0.15->cohere) (3.16.1)\n",
            "Requirement already satisfied: fsspec>=2023.5.0 in /usr/local/lib/python3.10/dist-packages (from huggingface-hub<1.0,>=0.16.4->tokenizers<1,>=0.15->cohere) (2024.9.0)\n",
            "Requirement already satisfied: packaging>=20.9 in /usr/local/lib/python3.10/dist-packages (from huggingface-hub<1.0,>=0.16.4->tokenizers<1,>=0.15->cohere) (24.2)\n",
            "Requirement already satisfied: pyyaml>=5.1 in /usr/local/lib/python3.10/dist-packages (from huggingface-hub<1.0,>=0.16.4->tokenizers<1,>=0.15->cohere) (6.0.2)\n",
            "Requirement already satisfied: tqdm>=4.42.1 in /usr/local/lib/python3.10/dist-packages (from huggingface-hub<1.0,>=0.16.4->tokenizers<1,>=0.15->cohere) (4.67.1)\n",
            "Requirement already satisfied: sniffio>=1.1 in /usr/local/lib/python3.10/dist-packages (from anyio->httpx>=0.21.2->cohere) (1.3.1)\n",
            "Requirement already satisfied: exceptiongroup in /usr/local/lib/python3.10/dist-packages (from anyio->httpx>=0.21.2->cohere) (1.2.2)\n"
          ]
        }
      ]
    },
    {
      "cell_type": "code",
      "source": [
        "import cohere\n",
        "\n",
        "# Initialize the Cohere client with your API key\n",
        "api_key = \"DIfX8Kc2Kn0ZBUl1TYVYijSiZzzJGIPGRmxlBocD\"\n",
        "co = cohere.Client(api_key)\n",
        "\n",
        "# Generate a response\n",
        "def generate_response(prompt):\n",
        "    response = co.generate(\n",
        "        model=\"command-r-plus-08-2024\",\n",
        "        prompt=prompt,\n",
        "        max_tokens=100,\n",
        "        temperature=1,\n",
        "    )\n",
        "    return response.generations[0].text\n",
        "\n",
        "\n",
        "response = generate_response(prompt)\n",
        "print(\"Response:\", response)\n"
      ],
      "metadata": {
        "colab": {
          "base_uri": "https://localhost:8080/"
        },
        "id": "mc3UyikWThGF",
        "outputId": "897b1631-b6ec-4332-c453-74be43471793"
      },
      "execution_count": 30,
      "outputs": [
        {
          "output_type": "stream",
          "name": "stdout",
          "text": [
            "Response: Unsupervised learning is a type of machine learning that uses algorithms to analyze and cluster unlabeled data sets. It is a method that helps discover hidden patterns or groupings without the need for human intervention. In this text, the instructor introduces the concept of unsupervised learning and explains its purpose.\n",
            "\n",
            "One of the techniques mentioned for unsupervised learning is clustering, which is used by organizations for customer segmentation. This involves grouping similar customers into buckets based on a variety of information such as purchase history,\n"
          ]
        }
      ]
    },
    {
      "cell_type": "code",
      "source": [],
      "metadata": {
        "id": "8PiSlVE_TlPg"
      },
      "execution_count": 30,
      "outputs": []
    }
  ]
}